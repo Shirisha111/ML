{
  "nbformat": 4,
  "nbformat_minor": 0,
  "metadata": {
    "kernelspec": {
      "display_name": "Python 3",
      "language": "python",
      "name": "python3"
    },
    "language_info": {
      "codemirror_mode": {
        "name": "ipython",
        "version": 3
      },
      "file_extension": ".py",
      "mimetype": "text/x-python",
      "name": "python",
      "nbconvert_exporter": "python",
      "pygments_lexer": "ipython3",
      "version": "3.7.3"
    },
    "colab": {
      "name": "Week#0_Day#0.ipynb",
      "provenance": [],
      "include_colab_link": true
    }
  },
  "cells": [
    {
      "cell_type": "markdown",
      "metadata": {
        "id": "view-in-github",
        "colab_type": "text"
      },
      "source": [
        "<a href=\"https://colab.research.google.com/github/Shirisha111/ML/blob/master/Week_0_Day_0.ipynb\" target=\"_parent\"><img src=\"https://colab.research.google.com/assets/colab-badge.svg\" alt=\"Open In Colab\"/></a>"
      ]
    },
    {
      "cell_type": "markdown",
      "metadata": {
        "id": "WW39R2Wcflo7",
        "colab_type": "text"
      },
      "source": [
        "## Solutions of Week 0 Day 0 Practice Questions\n",
        "##### We thank our coaches for coming up with this. \n",
        "##### **Contributors:** Sanyam Dhawan, Utkarsh, Aishwarya Yadav, Avi Tomar, Julian Marinda, Manish KC, Gunnika Batra\n",
        "\n"
      ]
    },
    {
      "cell_type": "markdown",
      "metadata": {
        "id": "IZfiCRA6h0YG",
        "colab_type": "text"
      },
      "source": [
        "1. Write a program to take a number from the user using a prompt “Enter a number : “."
      ]
    },
    {
      "cell_type": "code",
      "metadata": {
        "id": "QkIPdeOfflo8",
        "colab_type": "code",
        "outputId": "6d0dccee-7e22-42aa-e095-8621775a6f4e",
        "colab": {}
      },
      "source": [
        "number = input(\"Enter a number: \")"
      ],
      "execution_count": 0,
      "outputs": [
        {
          "output_type": "stream",
          "text": [
            "Enter a number: 4\n"
          ],
          "name": "stdout"
        }
      ]
    },
    {
      "cell_type": "markdown",
      "metadata": {
        "id": "_8qVj41dflpD",
        "colab_type": "text"
      },
      "source": [
        "2. Print the number taken by the user in the previous question. \n",
        "Hint: assign your program to a variable in question 1"
      ]
    },
    {
      "cell_type": "code",
      "metadata": {
        "id": "EBZYPqN_flpD",
        "colab_type": "code",
        "outputId": "652b1035-b000-475e-94e5-07d6e237912a",
        "colab": {}
      },
      "source": [
        "print(number)"
      ],
      "execution_count": 0,
      "outputs": [
        {
          "output_type": "stream",
          "text": [
            "4\n"
          ],
          "name": "stdout"
        }
      ]
    },
    {
      "cell_type": "markdown",
      "metadata": {
        "id": "PI-yudOWflpH",
        "colab_type": "text"
      },
      "source": [
        "3. Print the square of that number."
      ]
    },
    {
      "cell_type": "code",
      "metadata": {
        "id": "BK0srooLflpH",
        "colab_type": "code",
        "outputId": "db9255c6-c0ef-4202-d51c-1c91dbf151f2",
        "colab": {}
      },
      "source": [
        "number = int(number)    #Input via the input() funtion is in a string format. We first need to convert it to an integer\n",
        "square = number**2      #Exponential operator \n",
        "print(square)"
      ],
      "execution_count": 0,
      "outputs": [
        {
          "output_type": "stream",
          "text": [
            "16\n"
          ],
          "name": "stdout"
        }
      ]
    },
    {
      "cell_type": "markdown",
      "metadata": {
        "id": "xI-OIfW-flpK",
        "colab_type": "text"
      },
      "source": [
        "4. Create a string with value “Program” and print ‘o’ from it. \n",
        "Hint: recall indexing"
      ]
    },
    {
      "cell_type": "code",
      "metadata": {
        "id": "wOqB0WOKflpL",
        "colab_type": "code",
        "outputId": "4075fee7-f1d6-49df-bd7a-3c68321733dc",
        "colab": {}
      },
      "source": [
        "s = \"Program\"\n",
        "print(s[2])           #'o' is at the 2nd index since indexing starts from 0"
      ],
      "execution_count": 0,
      "outputs": [
        {
          "output_type": "stream",
          "text": [
            "o\n"
          ],
          "name": "stdout"
        }
      ]
    },
    {
      "cell_type": "markdown",
      "metadata": {
        "id": "5zM3yycNflpO",
        "colab_type": "text"
      },
      "source": [
        "5. Print the last 4 characters of the above string."
      ]
    },
    {
      "cell_type": "code",
      "metadata": {
        "id": "mSG65jnHflpP",
        "colab_type": "code",
        "outputId": "8af8aedc-6dbf-4029-9a48-1a06ef81f9e5",
        "colab": {}
      },
      "source": [
        "print(s[-4:])        # We print characters starting from -4 (g) to the end of the string. \n",
        "                     # Not specifying anything after : is equivalent to end of string"
      ],
      "execution_count": 0,
      "outputs": [
        {
          "output_type": "stream",
          "text": [
            "gram\n"
          ],
          "name": "stdout"
        }
      ]
    },
    {
      "cell_type": "markdown",
      "metadata": {
        "id": "-dYARf8AflpV",
        "colab_type": "text"
      },
      "source": [
        "6. Check if the string contains all lowercase letters. "
      ]
    },
    {
      "cell_type": "code",
      "metadata": {
        "id": "0Ph0M9WaflpV",
        "colab_type": "code",
        "outputId": "a6f68c16-10f4-4ef3-f07f-a229d9c3f9d1",
        "colab": {}
      },
      "source": [
        "s.islower()   # islower() is a built-in method used for string handling. This methods returns “True” if all characters in the string are lowercase, Otherwise, It returns “False”."
      ],
      "execution_count": 0,
      "outputs": [
        {
          "output_type": "execute_result",
          "data": {
            "text/plain": [
              "False"
            ]
          },
          "metadata": {
            "tags": []
          },
          "execution_count": 6
        }
      ]
    },
    {
      "cell_type": "markdown",
      "metadata": {
        "id": "HOVB1f2tflpb",
        "colab_type": "text"
      },
      "source": [
        "7. Print the type of the string"
      ]
    },
    {
      "cell_type": "code",
      "metadata": {
        "id": "wIuMkEhZflpd",
        "colab_type": "code",
        "outputId": "310a42f5-9f37-48bb-a0e1-2e7f0e8e615c",
        "colab": {}
      },
      "source": [
        "type(s)"
      ],
      "execution_count": 0,
      "outputs": [
        {
          "output_type": "execute_result",
          "data": {
            "text/plain": [
              "str"
            ]
          },
          "metadata": {
            "tags": []
          },
          "execution_count": 7
        }
      ]
    },
    {
      "cell_type": "markdown",
      "metadata": {
        "id": "EthDkwP4flpf",
        "colab_type": "text"
      },
      "source": [
        "8. Take in first name and last name as input and store it in the variables firstname and lastname\n",
        "\n",
        "    Suppose\n",
        "    firstname = “abc”\n",
        "    lastname = “xyz”,\n",
        "\n",
        "    Your task is to print the following:\n",
        "    Hello abc xyz! You just delved into python.\n",
        "\n",
        "    Hint: Google how to print multiple arguments/variables in python"
      ]
    },
    {
      "cell_type": "code",
      "metadata": {
        "id": "IxhFLJljflpg",
        "colab_type": "code",
        "outputId": "cd593b07-fcc4-4937-b02c-62e18d465d86",
        "colab": {}
      },
      "source": [
        "firstname=input(\"Enter First Name: \")\n",
        "lastname=input(\"Enter Last Name: \")\n",
        "\n",
        "# There are many ways to print multiple variables in python. We explore 4 ways to do so below\n",
        "\n",
        "# 1. Concatenate the strings.\n",
        "print(\"Hello \"+firstname+\" \"+lastname+\"! You just delved into python.\" )\n",
        "\n",
        "# 2. Using , to concatenate strings\n",
        "print(\"Hello\", firstname, lastname,\"! You just delved into python.\")\n",
        "\n",
        "# 3. Replace the variables in the  string with %s\n",
        "print(\"Hello %s %s! You just delved into python.\" % (firstname, lastname))    #The first %s represents the firstnaame and the second %s represents lastname\n",
        "\n",
        "# 4. Use the .format()\n",
        "print(\"Hello {} {}! You just delved into python.\".format(firstname, lastname))  #The variables in format are passed in order to the {}\n"
      ],
      "execution_count": 0,
      "outputs": [
        {
          "output_type": "stream",
          "text": [
            "Enter First Name: abc\n",
            "Enter Last Name: xyz\n",
            "Hello abc xyz! You just delved into python.\n",
            "Hello abc xyz ! You just delved into python.\n",
            "Hello abc xyz! You just delved into python.\n",
            "Hello abc xyz! You just delved into python.\n"
          ],
          "name": "stdout"
        }
      ]
    },
    {
      "cell_type": "code",
      "metadata": {
        "id": "u7x3bpXjflpm",
        "colab_type": "code",
        "colab": {}
      },
      "source": [
        ""
      ],
      "execution_count": 0,
      "outputs": []
    }
  ]
}